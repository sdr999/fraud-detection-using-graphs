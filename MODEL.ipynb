{
  "nbformat": 4,
  "nbformat_minor": 0,
  "metadata": {
    "colab": {
      "name": "MODEL.ipynb",
      "provenance": []
    },
    "kernelspec": {
      "name": "python3",
      "display_name": "Python 3"
    },
    "language_info": {
      "name": "python"
    }
  },
  "cells": [
    {
      "cell_type": "markdown",
      "source": [
        "**CONNECTING TO  THE DRIVE**"
      ],
      "metadata": {
        "id": "PctR4Ul1tn2J"
      }
    },
    {
      "cell_type": "code",
      "execution_count": null,
      "metadata": {
        "id": "ph7USVs0ePnb",
        "colab": {
          "base_uri": "https://localhost:8080/"
        },
        "outputId": "b392d62f-a7ea-41d4-efbe-5aab910351ef"
      },
      "outputs": [
        {
          "output_type": "stream",
          "name": "stdout",
          "text": [
            "Mounted at /content/drive\n"
          ]
        }
      ],
      "source": [
        "from google.colab import drive\n",
        "drive.mount('/content/drive')"
      ]
    },
    {
      "cell_type": "markdown",
      "source": [
        "**IMPORTING LIBRARIES**"
      ],
      "metadata": {
        "id": "8ycoxFYJt4YB"
      }
    },
    {
      "cell_type": "code",
      "source": [
        "import numpy as np # linear algebra\n",
        "import pandas as pd # data processing, CSV file I/O (e.g. pd.read_csv)\n",
        "import os\n"
      ],
      "metadata": {
        "id": "fz6ipn0aqMX6"
      },
      "execution_count": null,
      "outputs": []
    },
    {
      "cell_type": "markdown",
      "source": [
        "**READING THE DATABASE**"
      ],
      "metadata": {
        "id": "jLaTWH1huDRY"
      }
    },
    {
      "cell_type": "code",
      "source": [
        "data = pd.read_csv(\"/content/drive/MyDrive/card_transdata.csv\")\n",
        "\n",
        "data.head().style.background_gradient(cmap='Blues')\n"
      ],
      "metadata": {
        "colab": {
          "base_uri": "https://localhost:8080/",
          "height": 206
        },
        "id": "YWwoIhQcqaTE",
        "outputId": "44d0e47d-b78e-4dcd-bf2b-606821305660"
      },
      "execution_count": null,
      "outputs": [
        {
          "output_type": "execute_result",
          "data": {
            "text/plain": [
              "<pandas.io.formats.style.Styler at 0x7f392806de90>"
            ],
            "text/html": [
              "<style type=\"text/css\">\n",
              "#T_fad2a_row0_col0, #T_fad2a_row0_col4, #T_fad2a_row2_col6, #T_fad2a_row3_col1, #T_fad2a_row3_col4, #T_fad2a_row3_col6, #T_fad2a_row4_col2, #T_fad2a_row4_col4, #T_fad2a_row4_col6 {\n",
              "  background-color: #08306b;\n",
              "  color: #f1f1f1;\n",
              "}\n",
              "#T_fad2a_row0_col1 {\n",
              "  background-color: #f2f8fd;\n",
              "  color: #000000;\n",
              "}\n",
              "#T_fad2a_row0_col2 {\n",
              "  background-color: #0d57a1;\n",
              "  color: #f1f1f1;\n",
              "}\n",
              "#T_fad2a_row0_col3, #T_fad2a_row0_col5, #T_fad2a_row0_col6, #T_fad2a_row0_col7, #T_fad2a_row1_col1, #T_fad2a_row1_col3, #T_fad2a_row1_col4, #T_fad2a_row1_col5, #T_fad2a_row1_col6, #T_fad2a_row1_col7, #T_fad2a_row2_col3, #T_fad2a_row2_col4, #T_fad2a_row2_col5, #T_fad2a_row2_col7, #T_fad2a_row3_col0, #T_fad2a_row3_col2, #T_fad2a_row3_col3, #T_fad2a_row3_col5, #T_fad2a_row3_col7, #T_fad2a_row4_col3, #T_fad2a_row4_col5, #T_fad2a_row4_col7 {\n",
              "  background-color: #f7fbff;\n",
              "  color: #000000;\n",
              "}\n",
              "#T_fad2a_row1_col0 {\n",
              "  background-color: #d9e7f5;\n",
              "  color: #000000;\n",
              "}\n",
              "#T_fad2a_row1_col2 {\n",
              "  background-color: #6aaed6;\n",
              "  color: #f1f1f1;\n",
              "}\n",
              "#T_fad2a_row2_col0 {\n",
              "  background-color: #edf4fc;\n",
              "  color: #000000;\n",
              "}\n",
              "#T_fad2a_row2_col1 {\n",
              "  background-color: #e0ecf8;\n",
              "  color: #000000;\n",
              "}\n",
              "#T_fad2a_row2_col2 {\n",
              "  background-color: #f1f7fd;\n",
              "  color: #000000;\n",
              "}\n",
              "#T_fad2a_row4_col0 {\n",
              "  background-color: #206fb4;\n",
              "  color: #f1f1f1;\n",
              "}\n",
              "#T_fad2a_row4_col1 {\n",
              "  background-color: #e9f2fa;\n",
              "  color: #000000;\n",
              "}\n",
              "</style>\n",
              "<table id=\"T_fad2a_\" class=\"dataframe\">\n",
              "  <thead>\n",
              "    <tr>\n",
              "      <th class=\"blank level0\" >&nbsp;</th>\n",
              "      <th class=\"col_heading level0 col0\" >distance_from_home</th>\n",
              "      <th class=\"col_heading level0 col1\" >distance_from_last_transaction</th>\n",
              "      <th class=\"col_heading level0 col2\" >ratio_to_median_purchase_price</th>\n",
              "      <th class=\"col_heading level0 col3\" >repeat_retailer</th>\n",
              "      <th class=\"col_heading level0 col4\" >used_chip</th>\n",
              "      <th class=\"col_heading level0 col5\" >used_pin_number</th>\n",
              "      <th class=\"col_heading level0 col6\" >online_order</th>\n",
              "      <th class=\"col_heading level0 col7\" >fraud</th>\n",
              "    </tr>\n",
              "  </thead>\n",
              "  <tbody>\n",
              "    <tr>\n",
              "      <th id=\"T_fad2a_level0_row0\" class=\"row_heading level0 row0\" >0</th>\n",
              "      <td id=\"T_fad2a_row0_col0\" class=\"data row0 col0\" >57.877857</td>\n",
              "      <td id=\"T_fad2a_row0_col1\" class=\"data row0 col1\" >0.311140</td>\n",
              "      <td id=\"T_fad2a_row0_col2\" class=\"data row0 col2\" >1.945940</td>\n",
              "      <td id=\"T_fad2a_row0_col3\" class=\"data row0 col3\" >1.000000</td>\n",
              "      <td id=\"T_fad2a_row0_col4\" class=\"data row0 col4\" >1.000000</td>\n",
              "      <td id=\"T_fad2a_row0_col5\" class=\"data row0 col5\" >0.000000</td>\n",
              "      <td id=\"T_fad2a_row0_col6\" class=\"data row0 col6\" >0.000000</td>\n",
              "      <td id=\"T_fad2a_row0_col7\" class=\"data row0 col7\" >0.000000</td>\n",
              "    </tr>\n",
              "    <tr>\n",
              "      <th id=\"T_fad2a_level0_row1\" class=\"row_heading level0 row1\" >1</th>\n",
              "      <td id=\"T_fad2a_row1_col0\" class=\"data row1 col0\" >10.829943</td>\n",
              "      <td id=\"T_fad2a_row1_col1\" class=\"data row1 col1\" >0.175592</td>\n",
              "      <td id=\"T_fad2a_row1_col2\" class=\"data row1 col2\" >1.294219</td>\n",
              "      <td id=\"T_fad2a_row1_col3\" class=\"data row1 col3\" >1.000000</td>\n",
              "      <td id=\"T_fad2a_row1_col4\" class=\"data row1 col4\" >0.000000</td>\n",
              "      <td id=\"T_fad2a_row1_col5\" class=\"data row1 col5\" >0.000000</td>\n",
              "      <td id=\"T_fad2a_row1_col6\" class=\"data row1 col6\" >0.000000</td>\n",
              "      <td id=\"T_fad2a_row1_col7\" class=\"data row1 col7\" >0.000000</td>\n",
              "    </tr>\n",
              "    <tr>\n",
              "      <th id=\"T_fad2a_level0_row2\" class=\"row_heading level0 row2\" >2</th>\n",
              "      <td id=\"T_fad2a_row2_col0\" class=\"data row2 col0\" >5.091079</td>\n",
              "      <td id=\"T_fad2a_row2_col1\" class=\"data row2 col1\" >0.805153</td>\n",
              "      <td id=\"T_fad2a_row2_col2\" class=\"data row2 col2\" >0.427715</td>\n",
              "      <td id=\"T_fad2a_row2_col3\" class=\"data row2 col3\" >1.000000</td>\n",
              "      <td id=\"T_fad2a_row2_col4\" class=\"data row2 col4\" >0.000000</td>\n",
              "      <td id=\"T_fad2a_row2_col5\" class=\"data row2 col5\" >0.000000</td>\n",
              "      <td id=\"T_fad2a_row2_col6\" class=\"data row2 col6\" >1.000000</td>\n",
              "      <td id=\"T_fad2a_row2_col7\" class=\"data row2 col7\" >0.000000</td>\n",
              "    </tr>\n",
              "    <tr>\n",
              "      <th id=\"T_fad2a_level0_row3\" class=\"row_heading level0 row3\" >3</th>\n",
              "      <td id=\"T_fad2a_row3_col0\" class=\"data row3 col0\" >2.247564</td>\n",
              "      <td id=\"T_fad2a_row3_col1\" class=\"data row3 col1\" >5.600044</td>\n",
              "      <td id=\"T_fad2a_row3_col2\" class=\"data row3 col2\" >0.362663</td>\n",
              "      <td id=\"T_fad2a_row3_col3\" class=\"data row3 col3\" >1.000000</td>\n",
              "      <td id=\"T_fad2a_row3_col4\" class=\"data row3 col4\" >1.000000</td>\n",
              "      <td id=\"T_fad2a_row3_col5\" class=\"data row3 col5\" >0.000000</td>\n",
              "      <td id=\"T_fad2a_row3_col6\" class=\"data row3 col6\" >1.000000</td>\n",
              "      <td id=\"T_fad2a_row3_col7\" class=\"data row3 col7\" >0.000000</td>\n",
              "    </tr>\n",
              "    <tr>\n",
              "      <th id=\"T_fad2a_level0_row4\" class=\"row_heading level0 row4\" >4</th>\n",
              "      <td id=\"T_fad2a_row4_col0\" class=\"data row4 col0\" >44.190936</td>\n",
              "      <td id=\"T_fad2a_row4_col1\" class=\"data row4 col1\" >0.566486</td>\n",
              "      <td id=\"T_fad2a_row4_col2\" class=\"data row4 col2\" >2.222767</td>\n",
              "      <td id=\"T_fad2a_row4_col3\" class=\"data row4 col3\" >1.000000</td>\n",
              "      <td id=\"T_fad2a_row4_col4\" class=\"data row4 col4\" >1.000000</td>\n",
              "      <td id=\"T_fad2a_row4_col5\" class=\"data row4 col5\" >0.000000</td>\n",
              "      <td id=\"T_fad2a_row4_col6\" class=\"data row4 col6\" >1.000000</td>\n",
              "      <td id=\"T_fad2a_row4_col7\" class=\"data row4 col7\" >0.000000</td>\n",
              "    </tr>\n",
              "  </tbody>\n",
              "</table>\n"
            ]
          },
          "metadata": {},
          "execution_count": 3
        }
      ]
    },
    {
      "cell_type": "code",
      "source": [
        "data.describe().style.set_properties(**{'background-color': 'black',                                                   \n",
        "                                    'color': 'white',                       \n",
        "                                    'border-color': 'white'})"
      ],
      "metadata": {
        "colab": {
          "base_uri": "https://localhost:8080/",
          "height": 320
        },
        "id": "m4mHaPnNqbVc",
        "outputId": "e5b7166b-3128-4d38-85cc-a0b91d3e35cf"
      },
      "execution_count": null,
      "outputs": [
        {
          "output_type": "execute_result",
          "data": {
            "text/plain": [
              "<pandas.io.formats.style.Styler at 0x7f391c11e450>"
            ],
            "text/html": [
              "<style type=\"text/css\">\n",
              "#T_92a8b_row0_col0, #T_92a8b_row0_col1, #T_92a8b_row0_col2, #T_92a8b_row0_col3, #T_92a8b_row0_col4, #T_92a8b_row0_col5, #T_92a8b_row0_col6, #T_92a8b_row0_col7, #T_92a8b_row1_col0, #T_92a8b_row1_col1, #T_92a8b_row1_col2, #T_92a8b_row1_col3, #T_92a8b_row1_col4, #T_92a8b_row1_col5, #T_92a8b_row1_col6, #T_92a8b_row1_col7, #T_92a8b_row2_col0, #T_92a8b_row2_col1, #T_92a8b_row2_col2, #T_92a8b_row2_col3, #T_92a8b_row2_col4, #T_92a8b_row2_col5, #T_92a8b_row2_col6, #T_92a8b_row2_col7, #T_92a8b_row3_col0, #T_92a8b_row3_col1, #T_92a8b_row3_col2, #T_92a8b_row3_col3, #T_92a8b_row3_col4, #T_92a8b_row3_col5, #T_92a8b_row3_col6, #T_92a8b_row3_col7, #T_92a8b_row4_col0, #T_92a8b_row4_col1, #T_92a8b_row4_col2, #T_92a8b_row4_col3, #T_92a8b_row4_col4, #T_92a8b_row4_col5, #T_92a8b_row4_col6, #T_92a8b_row4_col7, #T_92a8b_row5_col0, #T_92a8b_row5_col1, #T_92a8b_row5_col2, #T_92a8b_row5_col3, #T_92a8b_row5_col4, #T_92a8b_row5_col5, #T_92a8b_row5_col6, #T_92a8b_row5_col7, #T_92a8b_row6_col0, #T_92a8b_row6_col1, #T_92a8b_row6_col2, #T_92a8b_row6_col3, #T_92a8b_row6_col4, #T_92a8b_row6_col5, #T_92a8b_row6_col6, #T_92a8b_row6_col7, #T_92a8b_row7_col0, #T_92a8b_row7_col1, #T_92a8b_row7_col2, #T_92a8b_row7_col3, #T_92a8b_row7_col4, #T_92a8b_row7_col5, #T_92a8b_row7_col6, #T_92a8b_row7_col7 {\n",
              "  background-color: black;\n",
              "  color: white;\n",
              "  border-color: white;\n",
              "}\n",
              "</style>\n",
              "<table id=\"T_92a8b_\" class=\"dataframe\">\n",
              "  <thead>\n",
              "    <tr>\n",
              "      <th class=\"blank level0\" >&nbsp;</th>\n",
              "      <th class=\"col_heading level0 col0\" >distance_from_home</th>\n",
              "      <th class=\"col_heading level0 col1\" >distance_from_last_transaction</th>\n",
              "      <th class=\"col_heading level0 col2\" >ratio_to_median_purchase_price</th>\n",
              "      <th class=\"col_heading level0 col3\" >repeat_retailer</th>\n",
              "      <th class=\"col_heading level0 col4\" >used_chip</th>\n",
              "      <th class=\"col_heading level0 col5\" >used_pin_number</th>\n",
              "      <th class=\"col_heading level0 col6\" >online_order</th>\n",
              "      <th class=\"col_heading level0 col7\" >fraud</th>\n",
              "    </tr>\n",
              "  </thead>\n",
              "  <tbody>\n",
              "    <tr>\n",
              "      <th id=\"T_92a8b_level0_row0\" class=\"row_heading level0 row0\" >count</th>\n",
              "      <td id=\"T_92a8b_row0_col0\" class=\"data row0 col0\" >1000000.000000</td>\n",
              "      <td id=\"T_92a8b_row0_col1\" class=\"data row0 col1\" >1000000.000000</td>\n",
              "      <td id=\"T_92a8b_row0_col2\" class=\"data row0 col2\" >1000000.000000</td>\n",
              "      <td id=\"T_92a8b_row0_col3\" class=\"data row0 col3\" >1000000.000000</td>\n",
              "      <td id=\"T_92a8b_row0_col4\" class=\"data row0 col4\" >1000000.000000</td>\n",
              "      <td id=\"T_92a8b_row0_col5\" class=\"data row0 col5\" >1000000.000000</td>\n",
              "      <td id=\"T_92a8b_row0_col6\" class=\"data row0 col6\" >1000000.000000</td>\n",
              "      <td id=\"T_92a8b_row0_col7\" class=\"data row0 col7\" >1000000.000000</td>\n",
              "    </tr>\n",
              "    <tr>\n",
              "      <th id=\"T_92a8b_level0_row1\" class=\"row_heading level0 row1\" >mean</th>\n",
              "      <td id=\"T_92a8b_row1_col0\" class=\"data row1 col0\" >26.628792</td>\n",
              "      <td id=\"T_92a8b_row1_col1\" class=\"data row1 col1\" >5.036519</td>\n",
              "      <td id=\"T_92a8b_row1_col2\" class=\"data row1 col2\" >1.824182</td>\n",
              "      <td id=\"T_92a8b_row1_col3\" class=\"data row1 col3\" >0.881536</td>\n",
              "      <td id=\"T_92a8b_row1_col4\" class=\"data row1 col4\" >0.350399</td>\n",
              "      <td id=\"T_92a8b_row1_col5\" class=\"data row1 col5\" >0.100608</td>\n",
              "      <td id=\"T_92a8b_row1_col6\" class=\"data row1 col6\" >0.650552</td>\n",
              "      <td id=\"T_92a8b_row1_col7\" class=\"data row1 col7\" >0.087403</td>\n",
              "    </tr>\n",
              "    <tr>\n",
              "      <th id=\"T_92a8b_level0_row2\" class=\"row_heading level0 row2\" >std</th>\n",
              "      <td id=\"T_92a8b_row2_col0\" class=\"data row2 col0\" >65.390784</td>\n",
              "      <td id=\"T_92a8b_row2_col1\" class=\"data row2 col1\" >25.843093</td>\n",
              "      <td id=\"T_92a8b_row2_col2\" class=\"data row2 col2\" >2.799589</td>\n",
              "      <td id=\"T_92a8b_row2_col3\" class=\"data row2 col3\" >0.323157</td>\n",
              "      <td id=\"T_92a8b_row2_col4\" class=\"data row2 col4\" >0.477095</td>\n",
              "      <td id=\"T_92a8b_row2_col5\" class=\"data row2 col5\" >0.300809</td>\n",
              "      <td id=\"T_92a8b_row2_col6\" class=\"data row2 col6\" >0.476796</td>\n",
              "      <td id=\"T_92a8b_row2_col7\" class=\"data row2 col7\" >0.282425</td>\n",
              "    </tr>\n",
              "    <tr>\n",
              "      <th id=\"T_92a8b_level0_row3\" class=\"row_heading level0 row3\" >min</th>\n",
              "      <td id=\"T_92a8b_row3_col0\" class=\"data row3 col0\" >0.004874</td>\n",
              "      <td id=\"T_92a8b_row3_col1\" class=\"data row3 col1\" >0.000118</td>\n",
              "      <td id=\"T_92a8b_row3_col2\" class=\"data row3 col2\" >0.004399</td>\n",
              "      <td id=\"T_92a8b_row3_col3\" class=\"data row3 col3\" >0.000000</td>\n",
              "      <td id=\"T_92a8b_row3_col4\" class=\"data row3 col4\" >0.000000</td>\n",
              "      <td id=\"T_92a8b_row3_col5\" class=\"data row3 col5\" >0.000000</td>\n",
              "      <td id=\"T_92a8b_row3_col6\" class=\"data row3 col6\" >0.000000</td>\n",
              "      <td id=\"T_92a8b_row3_col7\" class=\"data row3 col7\" >0.000000</td>\n",
              "    </tr>\n",
              "    <tr>\n",
              "      <th id=\"T_92a8b_level0_row4\" class=\"row_heading level0 row4\" >25%</th>\n",
              "      <td id=\"T_92a8b_row4_col0\" class=\"data row4 col0\" >3.878008</td>\n",
              "      <td id=\"T_92a8b_row4_col1\" class=\"data row4 col1\" >0.296671</td>\n",
              "      <td id=\"T_92a8b_row4_col2\" class=\"data row4 col2\" >0.475673</td>\n",
              "      <td id=\"T_92a8b_row4_col3\" class=\"data row4 col3\" >1.000000</td>\n",
              "      <td id=\"T_92a8b_row4_col4\" class=\"data row4 col4\" >0.000000</td>\n",
              "      <td id=\"T_92a8b_row4_col5\" class=\"data row4 col5\" >0.000000</td>\n",
              "      <td id=\"T_92a8b_row4_col6\" class=\"data row4 col6\" >0.000000</td>\n",
              "      <td id=\"T_92a8b_row4_col7\" class=\"data row4 col7\" >0.000000</td>\n",
              "    </tr>\n",
              "    <tr>\n",
              "      <th id=\"T_92a8b_level0_row5\" class=\"row_heading level0 row5\" >50%</th>\n",
              "      <td id=\"T_92a8b_row5_col0\" class=\"data row5 col0\" >9.967760</td>\n",
              "      <td id=\"T_92a8b_row5_col1\" class=\"data row5 col1\" >0.998650</td>\n",
              "      <td id=\"T_92a8b_row5_col2\" class=\"data row5 col2\" >0.997717</td>\n",
              "      <td id=\"T_92a8b_row5_col3\" class=\"data row5 col3\" >1.000000</td>\n",
              "      <td id=\"T_92a8b_row5_col4\" class=\"data row5 col4\" >0.000000</td>\n",
              "      <td id=\"T_92a8b_row5_col5\" class=\"data row5 col5\" >0.000000</td>\n",
              "      <td id=\"T_92a8b_row5_col6\" class=\"data row5 col6\" >1.000000</td>\n",
              "      <td id=\"T_92a8b_row5_col7\" class=\"data row5 col7\" >0.000000</td>\n",
              "    </tr>\n",
              "    <tr>\n",
              "      <th id=\"T_92a8b_level0_row6\" class=\"row_heading level0 row6\" >75%</th>\n",
              "      <td id=\"T_92a8b_row6_col0\" class=\"data row6 col0\" >25.743985</td>\n",
              "      <td id=\"T_92a8b_row6_col1\" class=\"data row6 col1\" >3.355748</td>\n",
              "      <td id=\"T_92a8b_row6_col2\" class=\"data row6 col2\" >2.096370</td>\n",
              "      <td id=\"T_92a8b_row6_col3\" class=\"data row6 col3\" >1.000000</td>\n",
              "      <td id=\"T_92a8b_row6_col4\" class=\"data row6 col4\" >1.000000</td>\n",
              "      <td id=\"T_92a8b_row6_col5\" class=\"data row6 col5\" >0.000000</td>\n",
              "      <td id=\"T_92a8b_row6_col6\" class=\"data row6 col6\" >1.000000</td>\n",
              "      <td id=\"T_92a8b_row6_col7\" class=\"data row6 col7\" >0.000000</td>\n",
              "    </tr>\n",
              "    <tr>\n",
              "      <th id=\"T_92a8b_level0_row7\" class=\"row_heading level0 row7\" >max</th>\n",
              "      <td id=\"T_92a8b_row7_col0\" class=\"data row7 col0\" >10632.723672</td>\n",
              "      <td id=\"T_92a8b_row7_col1\" class=\"data row7 col1\" >11851.104565</td>\n",
              "      <td id=\"T_92a8b_row7_col2\" class=\"data row7 col2\" >267.802942</td>\n",
              "      <td id=\"T_92a8b_row7_col3\" class=\"data row7 col3\" >1.000000</td>\n",
              "      <td id=\"T_92a8b_row7_col4\" class=\"data row7 col4\" >1.000000</td>\n",
              "      <td id=\"T_92a8b_row7_col5\" class=\"data row7 col5\" >1.000000</td>\n",
              "      <td id=\"T_92a8b_row7_col6\" class=\"data row7 col6\" >1.000000</td>\n",
              "      <td id=\"T_92a8b_row7_col7\" class=\"data row7 col7\" >1.000000</td>\n",
              "    </tr>\n",
              "  </tbody>\n",
              "</table>\n"
            ]
          },
          "metadata": {},
          "execution_count": 16
        }
      ]
    },
    {
      "cell_type": "code",
      "source": [
        "data.info()"
      ],
      "metadata": {
        "colab": {
          "base_uri": "https://localhost:8080/"
        },
        "id": "AOXqRBKmqhti",
        "outputId": "68d76b4d-7b9b-4fe6-8737-d74ca701d4f5"
      },
      "execution_count": null,
      "outputs": [
        {
          "output_type": "stream",
          "name": "stdout",
          "text": [
            "<class 'pandas.core.frame.DataFrame'>\n",
            "RangeIndex: 1000000 entries, 0 to 999999\n",
            "Data columns (total 8 columns):\n",
            " #   Column                          Non-Null Count    Dtype  \n",
            "---  ------                          --------------    -----  \n",
            " 0   distance_from_home              1000000 non-null  float64\n",
            " 1   distance_from_last_transaction  1000000 non-null  float64\n",
            " 2   ratio_to_median_purchase_price  1000000 non-null  float64\n",
            " 3   repeat_retailer                 1000000 non-null  float64\n",
            " 4   used_chip                       1000000 non-null  float64\n",
            " 5   used_pin_number                 1000000 non-null  float64\n",
            " 6   online_order                    1000000 non-null  float64\n",
            " 7   fraud                           1000000 non-null  float64\n",
            "dtypes: float64(8)\n",
            "memory usage: 61.0 MB\n"
          ]
        }
      ]
    },
    {
      "cell_type": "code",
      "source": [
        "data.dtypes"
      ],
      "metadata": {
        "colab": {
          "base_uri": "https://localhost:8080/"
        },
        "id": "cc-xy8u_qlMZ",
        "outputId": "9254725e-e96c-40b3-f807-e09378855cda"
      },
      "execution_count": null,
      "outputs": [
        {
          "output_type": "execute_result",
          "data": {
            "text/plain": [
              "distance_from_home                float64\n",
              "distance_from_last_transaction    float64\n",
              "ratio_to_median_purchase_price    float64\n",
              "repeat_retailer                   float64\n",
              "used_chip                         float64\n",
              "used_pin_number                   float64\n",
              "online_order                      float64\n",
              "fraud                             float64\n",
              "dtype: object"
            ]
          },
          "metadata": {},
          "execution_count": 6
        }
      ]
    },
    {
      "cell_type": "markdown",
      "source": [
        "**DATA PRE-PROCESSING**"
      ],
      "metadata": {
        "id": "H2BVZ70wurTZ"
      }
    },
    {
      "cell_type": "code",
      "source": [
        "data.isna().sum()"
      ],
      "metadata": {
        "colab": {
          "base_uri": "https://localhost:8080/"
        },
        "id": "qd9tjxS2qnEy",
        "outputId": "75d9ef4d-0e7f-4943-fa02-571033e207f6"
      },
      "execution_count": null,
      "outputs": [
        {
          "output_type": "execute_result",
          "data": {
            "text/plain": [
              "distance_from_home                0\n",
              "distance_from_last_transaction    0\n",
              "ratio_to_median_purchase_price    0\n",
              "repeat_retailer                   0\n",
              "used_chip                         0\n",
              "used_pin_number                   0\n",
              "online_order                      0\n",
              "fraud                             0\n",
              "dtype: int64"
            ]
          },
          "metadata": {},
          "execution_count": 7
        }
      ]
    },
    {
      "cell_type": "markdown",
      "source": [
        "**HEATMAP**"
      ],
      "metadata": {
        "id": "LI3YKOLYuuWQ"
      }
    },
    {
      "cell_type": "code",
      "source": [
        "import seaborn as sns\n",
        "corr = data.corr()\n",
        "sns.heatmap(corr,xticklabels=corr.columns,yticklabels=corr.columns,annot=True,cmap=\"hot\")\n"
      ],
      "metadata": {
        "colab": {
          "base_uri": "https://localhost:8080/",
          "height": 437
        },
        "id": "XsWNL327qpQp",
        "outputId": "ce9c5b28-82fd-4d60-bc16-f52bca9aedef"
      },
      "execution_count": null,
      "outputs": [
        {
          "output_type": "execute_result",
          "data": {
            "text/plain": [
              "<matplotlib.axes._subplots.AxesSubplot at 0x7f391b9e2910>"
            ]
          },
          "metadata": {},
          "execution_count": 9
        },
        {
          "output_type": "display_data",
          "data": {
            "text/plain": [
              "<Figure size 432x288 with 2 Axes>"
            ],
            "image/png": "[encoded data removed]"
          },
          "metadata": {
            "needs_background": "light"
          }
        }
      ]
    },
    {
      "cell_type": "code",
      "source": [
        "for i in data.columns[3:]:\n",
        "    print(data[i].value_counts())"
      ],
      "metadata": {
        "colab": {
          "base_uri": "https://localhost:8080/"
        },
        "id": "8V27T4c0qrT5",
        "outputId": "719175df-5e8d-4ab7-e496-9947be13027c"
      },
      "execution_count": null,
      "outputs": [
        {
          "output_type": "stream",
          "name": "stdout",
          "text": [
            "1.0    881536\n",
            "0.0    118464\n",
            "Name: repeat_retailer, dtype: int64\n",
            "0.0    649601\n",
            "1.0    350399\n",
            "Name: used_chip, dtype: int64\n",
            "0.0    899392\n",
            "1.0    100608\n",
            "Name: used_pin_number, dtype: int64\n",
            "1.0    650552\n",
            "0.0    349448\n",
            "Name: online_order, dtype: int64\n",
            "0.0    912597\n",
            "1.0     87403\n",
            "Name: fraud, dtype: int64\n"
          ]
        }
      ]
    },
    {
      "cell_type": "code",
      "source": [
        "y = data[\"fraud\"]\n",
        "x = data.drop(\"fraud\",axis=1)"
      ],
      "metadata": {
        "id": "w7o5kIphqtng"
      },
      "execution_count": null,
      "outputs": []
    },
    {
      "cell_type": "markdown",
      "source": [
        "**TRAIN AND TEST**"
      ],
      "metadata": {
        "id": "dABcmjdouW4D"
      }
    },
    {
      "cell_type": "code",
      "source": [
        "from sklearn.model_selection import train_test_split\n",
        "x_train,x_test,y_train,y_test = train_test_split(x,y,test_size=0.33,random_state=0)\n",
        "\n",
        "from sklearn.linear_model import LogisticRegression\n",
        "\n",
        "regressor = LogisticRegression()\n",
        "regressor.fit(x_train,y_train)\n",
        "\n",
        "y_pred = regressor.predict(x_test)"
      ],
      "metadata": {
        "colab": {
          "base_uri": "https://localhost:8080/"
        },
        "id": "LdHh1JwMqv8h",
        "outputId": "59f40768-ae6e-4323-e024-87debdedae07"
      },
      "execution_count": null,
      "outputs": [
        {
          "output_type": "stream",
          "name": "stderr",
          "text": [
            "/usr/local/lib/python3.7/dist-packages/sklearn/linear_model/_logistic.py:818: ConvergenceWarning: lbfgs failed to converge (status=1):\n",
            "STOP: TOTAL NO. of ITERATIONS REACHED LIMIT.\n",
            "\n",
            "Increase the number of iterations (max_iter) or scale the data as shown in:\n",
            "    https://scikit-learn.org/stable/modules/preprocessing.html\n",
            "Please also refer to the documentation for alternative solver options:\n",
            "    https://scikit-learn.org/stable/modules/linear_model.html#logistic-regression\n",
            "  extra_warning_msg=_LOGISTIC_SOLVER_CONVERGENCE_MSG,\n"
          ]
        }
      ]
    },
    {
      "cell_type": "markdown",
      "source": [
        "**CONFUSION MATRIX**"
      ],
      "metadata": {
        "id": "HmgvgeF0ueqB"
      }
    },
    {
      "cell_type": "code",
      "source": [
        "from sklearn.metrics import confusion_matrix,classification_report,precision_score, recall_score\n",
        "\n",
        "sns.heatmap(confusion_matrix(y_test,y_pred),annot=True,cmap=\"YlGnBu\")"
      ],
      "metadata": {
        "colab": {
          "base_uri": "https://localhost:8080/",
          "height": 282
        },
        "id": "uumg56FVqz10",
        "outputId": "632fad4d-93c1-4aa2-c921-036cee3520d9"
      },
      "execution_count": null,
      "outputs": [
        {
          "output_type": "execute_result",
          "data": {
            "text/plain": [
              "<matplotlib.axes._subplots.AxesSubplot at 0x7f391b7e4cd0>"
            ]
          },
          "metadata": {},
          "execution_count": 13
        },
        {
          "output_type": "display_data",
          "data": {
            "text/plain": [
              "<Figure size 432x288 with 2 Axes>"
            ],
            "image/png": "[encoded data removed]"
          },
          "metadata": {
            "needs_background": "light"
          }
        }
      ]
    },
    {
      "cell_type": "code",
      "source": [
        "print(classification_report(y_test,y_pred))"
      ],
      "metadata": {
        "colab": {
          "base_uri": "https://localhost:8080/"
        },
        "id": "R3Ki307MrKE4",
        "outputId": "c24dacdd-1e25-412a-e3db-f7d7ac2e6413"
      },
      "execution_count": null,
      "outputs": [
        {
          "output_type": "stream",
          "name": "stdout",
          "text": [
            "              precision    recall  f1-score   support\n",
            "\n",
            "         0.0       0.96      0.99      0.98    301295\n",
            "         1.0       0.88      0.57      0.69     28705\n",
            "\n",
            "    accuracy                           0.96    330000\n",
            "   macro avg       0.92      0.78      0.83    330000\n",
            "weighted avg       0.95      0.96      0.95    330000\n",
            "\n"
          ]
        }
      ]
    },
    {
      "cell_type": "markdown",
      "source": [
        "**RECALL AND PRECISION**"
      ],
      "metadata": {
        "id": "x17L5zBZvEH1"
      }
    },
    {
      "cell_type": "code",
      "source": [
        "print(precision_score(y_test,y_pred))\n",
        "\n",
        "print(recall_score(y_test,y_pred))"
      ],
      "metadata": {
        "colab": {
          "base_uri": "https://localhost:8080/"
        },
        "id": "JZevDe0KrO9k",
        "outputId": "4db6b952-afda-4a54-ac4f-82a6bd2cf09e"
      },
      "execution_count": null,
      "outputs": [
        {
          "output_type": "stream",
          "name": "stdout",
          "text": [
            "0.8800650054171181\n",
            "0.5659641177495209\n"
          ]
        }
      ]
    }
  ]
}